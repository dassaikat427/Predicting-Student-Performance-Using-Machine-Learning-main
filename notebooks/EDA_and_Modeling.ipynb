{
 "cells": [
  {
   "cell_type": "code",
   "execution_count": null,
   "id": "cfbabf73",
   "metadata": {
    "vscode": {
     "languageId": "plaintext"
    }
   },
   "outputs": [],
   "source": [
    "# EDA_and_Modeling.ipynb\n",
    "\n",
    "import pandas as pd\n",
    "import matplotlib.pyplot as plt\n",
    "import seaborn as sns\n",
    "from sklearn.preprocessing import LabelEncoder, StandardScaler\n",
    "from sklearn.model_selection import train_test_split\n",
    "from sklearn.ensemble import RandomForestRegressor, GradientBoostingRegressor\n",
    "from xgboost import XGBRegressor\n",
    "from sklearn.metrics import r2_score, mean_squared_error\n",
    "\n",
    "# Load data\n",
    "df = pd.read_csv('../data/student_data.csv')\n",
    "df.head()\n",
    "\n",
    "# --- EDA ---\n",
    "# Check missing values\n",
    "print(df.isnull().sum())\n",
    "\n",
    "# Distribution of final grades\n",
    "sns.histplot(df['final_grade'], bins=10, kde=True)\n",
    "plt.show()\n",
    "\n",
    "# Correlation heatmap\n",
    "plt.figure(figsize=(8,6))\n",
    "sns.heatmap(df.corr(), annot=True, cmap='coolwarm')\n",
    "plt.show()\n",
    "\n",
    "# --- Encode categorical features ---\n",
    "le_gender = LabelEncoder()\n",
    "le_family = LabelEncoder()\n",
    "le_extra = LabelEncoder()\n",
    "\n",
    "df['gender'] = le_gender.fit_transform(df['gender'])\n",
    "df['family_support'] = le_family.fit_transform(df['family_support'])\n",
    "df['extracurricular'] = le_extra.fit_transform(df['extracurricular'])\n",
    "\n",
    "# Features and target\n",
    "X = df.drop(['student_id','final_grade'], axis=1)\n",
    "y = df['final_grade']\n",
    "\n",
    "# Scale features\n",
    "scaler = StandardScaler()\n",
    "X_scaled = scaler.fit_transform(X)\n",
    "\n",
    "# --- Train/Test Split ---\n",
    "X_train, X_test, y_train, y_test = train_test_split(X_scaled, y, test_size=0.2, random_state=42)\n",
    "\n",
    "# --- Train Models ---\n",
    "models = {\n",
    "    'Random Forest': RandomForestRegressor(n_estimators=100, random_state=42),\n",
    "    'Gradient Boosting': GradientBoostingRegressor(n_estimators=100, random_state=42),\n",
    "    'XGBoost': XGBRegressor(n_estimators=100, random_state=42)\n",
    "}\n",
    "\n",
    "for name, model in models.items():\n",
    "    model.fit(X_train, y_train)\n",
    "    y_pred = model.predict(X_test)\n",
    "    print(f\"{name} - R2: {r2_score(y_test, y_pred):.4f}, RMSE: {mean_squared_error(y_test, y_pred, squared=False):.4f}\")\n",
    "\n",
    "# --- Feature Importance for Random Forest ---\n",
    "rf = models['Random Forest']\n",
    "importances = rf.feature_importances_\n",
    "features = X.columns\n",
    "plt.figure(figsize=(8,5))\n",
    "sns.barplot(x=features, y=importances)\n",
    "plt.title(\"Feature Importance - Random Forest\")\n",
    "plt.show()"
   ]
  },
  {
   "cell_type": "code",
   "execution_count": null,
   "id": "a37be057",
   "metadata": {
    "vscode": {
     "languageId": "plaintext"
    }
   },
   "outputs": [],
   "source": []
  }
 ],
 "metadata": {
  "language_info": {
   "name": "python"
  }
 },
 "nbformat": 4,
 "nbformat_minor": 5
}
